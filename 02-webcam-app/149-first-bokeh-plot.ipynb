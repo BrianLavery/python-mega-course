{
 "cells": [
  {
   "cell_type": "code",
   "execution_count": 7,
   "id": "579f061b",
   "metadata": {},
   "outputs": [
    {
     "name": "stderr",
     "output_type": "stream",
     "text": [
      "[20114:20114:1213/172337.739693:ERROR:sandbox_linux.cc(376)] InitializeSandbox() called with multiple threads in process gpu-process.\n",
      "[20114:20114:1213/172338.992217:ERROR:shared_context_state.cc(75)] Skia shader compilation error\n",
      "------------------------\n",
      "\n",
      "Errors:\n",
      "\n",
      "[20114:20114:1213/172338.995281:ERROR:shared_context_state.cc(75)] Skia shader compilation error\n",
      "------------------------\n",
      "\n",
      "Errors:\n",
      "\n",
      "[20070:20096:1213/172340.078167:ERROR:chrome_browser_main_extra_parts_metrics.cc(226)] crbug.com/1216328: Checking Bluetooth availability started. Please report if there is no report that this ends.\n",
      "[20070:20096:1213/172340.078189:ERROR:chrome_browser_main_extra_parts_metrics.cc(229)] crbug.com/1216328: Checking Bluetooth availability ended.\n",
      "[20070:20096:1213/172340.078196:ERROR:chrome_browser_main_extra_parts_metrics.cc(232)] crbug.com/1216328: Checking default browser status started. Please report if there is no report that this ends.\n",
      "[20070:20096:1213/172340.102206:ERROR:chrome_browser_main_extra_parts_metrics.cc(236)] crbug.com/1216328: Checking default browser status ended.\n"
     ]
    }
   ],
   "source": [
    "# Making a basic bokeh line graph with minimum requirements\n",
    "\n",
    "# importing bokeh (multiple interfaces)\n",
    "from bokeh.plotting import figure\n",
    "from bokeh.io import output_file, show\n",
    "\n",
    "# Prepare some data\n",
    "# Lists need to be same length for bokeh\n",
    "x = [1, 2, 3, 4, 5]\n",
    "y = [6, 7, 8, 9, 10]\n",
    "\n",
    "# Prepare output file\n",
    "output_file(\"./files/bokeh/line.html\")\n",
    "\n",
    "# Create figure object\n",
    "f = figure()\n",
    "\n",
    "# Create line plot\n",
    "f.line(x, y)\n",
    "\n",
    "# Show object\n",
    "show(f)"
   ]
  },
  {
   "cell_type": "code",
   "execution_count": 5,
   "id": "bda07d3a",
   "metadata": {},
   "outputs": [
    {
     "name": "stderr",
     "output_type": "stream",
     "text": [
      "[19538:19538:1213/172301.790624:ERROR:sandbox_linux.cc(376)] InitializeSandbox() called with multiple threads in process gpu-process.\n",
      "[19606:19606:1213/172301.851475:ERROR:sandbox_linux.cc(376)] InitializeSandbox() called with multiple threads in process gpu-process.\n"
     ]
    },
    {
     "name": "stdout",
     "output_type": "stream",
     "text": [
      "Opening in existing browser session.\n"
     ]
    },
    {
     "name": "stderr",
     "output_type": "stream",
     "text": [
      "[19538:19538:1213/172303.270006:ERROR:shared_context_state.cc(75)] Skia shader compilation error\n",
      "------------------------\n",
      "\n",
      "Errors:\n",
      "\n",
      "[19452:19493:1213/172304.204669:ERROR:chrome_browser_main_extra_parts_metrics.cc(226)] crbug.com/1216328: Checking Bluetooth availability started. Please report if there is no report that this ends.\n",
      "[19452:19493:1213/172304.205373:ERROR:chrome_browser_main_extra_parts_metrics.cc(229)] crbug.com/1216328: Checking Bluetooth availability ended.\n",
      "[19452:19493:1213/172304.205586:ERROR:chrome_browser_main_extra_parts_metrics.cc(232)] crbug.com/1216328: Checking default browser status started. Please report if there is no report that this ends.\n",
      "[19452:19493:1213/172304.245793:ERROR:chrome_browser_main_extra_parts_metrics.cc(236)] crbug.com/1216328: Checking default browser status ended.\n",
      "[19538:19538:1213/172305.893186:ERROR:shared_context_state.cc(75)] Skia shader compilation error\n",
      "------------------------\n",
      "\n",
      "Errors:\n",
      "\n",
      "[19538:19538:1213/172306.583962:ERROR:shared_context_state.cc(75)] Skia shader compilation error\n",
      "------------------------\n",
      "\n",
      "Errors:\n",
      "\n",
      "[19538:19538:1213/172306.597114:ERROR:shared_context_state.cc(75)] Skia shader compilation error\n",
      "------------------------\n",
      "\n",
      "Errors:\n",
      "\n",
      "[19538:19538:1213/172307.497986:ERROR:shared_context_state.cc(75)] Skia shader compilation error\n",
      "------------------------\n",
      "\n",
      "Errors:\n",
      "\n",
      "[19538:19538:1213/172308.274800:ERROR:shared_context_state.cc(75)] Skia shader compilation error\n",
      "------------------------\n",
      "\n",
      "Errors:\n",
      "\n"
     ]
    }
   ],
   "source": [
    "f1 = figure()\n",
    "f2 = figure()\n",
    "\n",
    "f1.circle(x, y)\n",
    "show(f1)\n",
    "\n",
    "f2.triangle(x, y)\n",
    "show(f2)"
   ]
  }
 ],
 "metadata": {
  "kernelspec": {
   "display_name": "Python 3 (ipykernel)",
   "language": "python",
   "name": "python3"
  },
  "language_info": {
   "codemirror_mode": {
    "name": "ipython",
    "version": 3
   },
   "file_extension": ".py",
   "mimetype": "text/x-python",
   "name": "python",
   "nbconvert_exporter": "python",
   "pygments_lexer": "ipython3",
   "version": "3.8.10"
  }
 },
 "nbformat": 4,
 "nbformat_minor": 5
}
