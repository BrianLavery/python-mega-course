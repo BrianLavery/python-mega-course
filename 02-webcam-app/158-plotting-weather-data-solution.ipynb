{
 "cells": [
  {
   "cell_type": "code",
   "execution_count": 1,
   "id": "37bcc050",
   "metadata": {},
   "outputs": [
    {
     "name": "stdout",
     "output_type": "stream",
     "text": [
      "Opening in existing browser session.\n"
     ]
    },
    {
     "name": "stderr",
     "output_type": "stream",
     "text": [
      "[34438:34438:0100/000000.797523:ERROR:sandbox_linux.cc(376)] InitializeSandbox() called with multiple threads in process gpu-process.\n"
     ]
    }
   ],
   "source": [
    "# Importing libraries\n",
    "import pandas\n",
    "from bokeh.plotting import figure, output_file, show\n",
    "\n",
    "# Prepare data\n",
    "df = pandas.read_excel(\"https://github.com/pythonizing/data/raw/master/verlegenhuken.xlsx\")\n",
    "x = df[\"Temperature\"] / 10\n",
    "y = df[\"Pressure\"] / 10\n",
    "\n",
    "# Prepare figure core attributes\n",
    "p = figure(plot_width=500,plot_height=400,tools='pan')\n",
    "\n",
    "# Customise chart attributes\n",
    "p.title.text = \"Temperature and Air Pressure\"\n",
    "p.title.text_color = \"Gray\"\n",
    "p.title.text_font = \"calibri\"\n",
    "p.title.text_font_style = \"bold\"\n",
    "p.xaxis.minor_tick_line_color = None\n",
    "p.yaxis.minor_tick_line_color = None\n",
    "p.xaxis.axis_label = \"Temperature (°C)\"\n",
    "p.yaxis.axis_label = \"Pressure (hPa)\"\n",
    "\n",
    "# Prepare output file\n",
    "output_file(\"./files/bokeh/weather.html\")\n",
    "p.circle(x, y, size = 0.5)\n",
    "show(p)\n"
   ]
  }
 ],
 "metadata": {
  "kernelspec": {
   "display_name": "Python 3 (ipykernel)",
   "language": "python",
   "name": "python3"
  },
  "language_info": {
   "codemirror_mode": {
    "name": "ipython",
    "version": 3
   },
   "file_extension": ".py",
   "mimetype": "text/x-python",
   "name": "python",
   "nbconvert_exporter": "python",
   "pygments_lexer": "ipython3",
   "version": "3.8.10"
  }
 },
 "nbformat": 4,
 "nbformat_minor": 5
}
