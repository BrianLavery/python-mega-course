{
 "cells": [
  {
   "cell_type": "code",
   "execution_count": 4,
   "id": "37bcc050",
   "metadata": {},
   "outputs": [
    {
     "name": "stdout",
     "output_type": "stream",
     "text": [
      "Opening in existing browser session.\n"
     ]
    },
    {
     "name": "stderr",
     "output_type": "stream",
     "text": [
      "[11847:11847:0100/000000.404790:ERROR:sandbox_linux.cc(376)] InitializeSandbox() called with multiple threads in process gpu-process.\n"
     ]
    }
   ],
   "source": [
    "# Importing libraries\n",
    "import pandas\n",
    "from bokeh.plotting import figure, output_file, show\n",
    "\n",
    "# Prepare figure core attributes\n",
    "p = figure(plot_width = 500, plot_height = 400, tools = 'pan,wheel_zoom,reset', x_axis_type = \"datetime\", sizing_mode = \"scale_both\")\n",
    "\n",
    "# Customise chart attributes\n",
    "p.title.text = \"Earthquake\"\n",
    "p.title.text_color = \"Orange\"\n",
    "p.title.text_font = \"times\"\n",
    "p.title.text_font_style = \"italic\"\n",
    "\n",
    "p.yaxis.minor_tick_line_color = \"Yellow\"\n",
    "\n",
    "p.xaxis.axis_label = \"Times\"\n",
    "p.yaxis.axis_label = \"Value\"\n",
    "\n",
    "# Set up line chart\n",
    "p.line([1,2,3,4,5], [5,6,5,5,3], line_width = 2, color = \"Red\", alpha = 0.5)\n",
    "p.circle([i * 2 for i in [1,2,3,4,5]], [5,6,5,5,3], size = 8, color = \"olive\", alpha = 0.5)\n",
    "\n",
    "# Prepare output file\n",
    "output_file(\"./files/bokeh/time_series_plot.html\")\n",
    "\n",
    "show(p)\n",
    "\n",
    "\n"
   ]
  }
 ],
 "metadata": {
  "kernelspec": {
   "display_name": "Python 3 (ipykernel)",
   "language": "python",
   "name": "python3"
  },
  "language_info": {
   "codemirror_mode": {
    "name": "ipython",
    "version": 3
   },
   "file_extension": ".py",
   "mimetype": "text/x-python",
   "name": "python",
   "nbconvert_exporter": "python",
   "pygments_lexer": "ipython3",
   "version": "3.8.10"
  }
 },
 "nbformat": 4,
 "nbformat_minor": 5
}
