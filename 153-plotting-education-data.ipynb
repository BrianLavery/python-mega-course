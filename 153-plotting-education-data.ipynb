{
 "cells": [
  {
   "cell_type": "code",
   "execution_count": 1,
   "id": "579f061b",
   "metadata": {},
   "outputs": [
    {
     "name": "stderr",
     "output_type": "stream",
     "text": [
      "[30424:30424:1213/182833.673156:ERROR:sandbox_linux.cc(376)] InitializeSandbox() called with multiple threads in process gpu-process.\n",
      "[30379:30409:1213/182836.141025:ERROR:chrome_browser_main_extra_parts_metrics.cc(226)] crbug.com/1216328: Checking Bluetooth availability started. Please report if there is no report that this ends.\n",
      "[30379:30409:1213/182836.141192:ERROR:chrome_browser_main_extra_parts_metrics.cc(229)] crbug.com/1216328: Checking Bluetooth availability ended.\n",
      "[30379:30409:1213/182836.141204:ERROR:chrome_browser_main_extra_parts_metrics.cc(232)] crbug.com/1216328: Checking default browser status started. Please report if there is no report that this ends.\n",
      "[30379:30409:1213/182836.182414:ERROR:chrome_browser_main_extra_parts_metrics.cc(236)] crbug.com/1216328: Checking default browser status ended.\n",
      "[30424:30424:1213/182841.214106:ERROR:shared_context_state.cc(75)] Skia shader compilation error\n",
      "------------------------\n",
      "\n",
      "Errors:\n",
      "\n",
      "[30424:30424:1213/182843.582194:ERROR:shared_context_state.cc(75)] Skia shader compilation error\n",
      "------------------------\n",
      "\n",
      "Errors:\n",
      "\n",
      "[30424:30424:1213/182844.000539:ERROR:shared_context_state.cc(75)] Skia shader compilation error\n",
      "------------------------\n",
      "\n",
      "Errors:\n",
      "\n",
      "[30424:30424:1213/182844.148269:ERROR:shared_context_state.cc(75)] Skia shader compilation error\n",
      "------------------------\n",
      "\n",
      "Errors:\n",
      "\n",
      "[30424:30424:1213/182844.361056:ERROR:shared_context_state.cc(75)] Skia shader compilation error\n",
      "------------------------\n",
      "\n",
      "Errors:\n",
      "\n"
     ]
    }
   ],
   "source": [
    "# Making a basic bokeh line graph with minimum requirements\n",
    "\n",
    "# importing bokeh (multiple interfaces)\n",
    "from bokeh.plotting import figure\n",
    "from bokeh.io import output_file, show\n",
    "import pandas\n",
    "\n",
    "# Prepare some data\n",
    "df = pandas.read_csv(\"./files/bokeh/bachelors.csv\")\n",
    "x = df[\"Year\"]\n",
    "y = df[\"Engineering\"]\n",
    "\n",
    "# Prepare output file\n",
    "output_file(\"./files/bokeh/bachelors.html\")\n",
    "\n",
    "# Create figure object\n",
    "f = figure()\n",
    "\n",
    "# Create line plot\n",
    "f.line(x, y)\n",
    "\n",
    "# Show object\n",
    "show(f)"
   ]
  }
 ],
 "metadata": {
  "kernelspec": {
   "display_name": "Python 3 (ipykernel)",
   "language": "python",
   "name": "python3"
  },
  "language_info": {
   "codemirror_mode": {
    "name": "ipython",
    "version": 3
   },
   "file_extension": ".py",
   "mimetype": "text/x-python",
   "name": "python",
   "nbconvert_exporter": "python",
   "pygments_lexer": "ipython3",
   "version": "3.8.10"
  }
 },
 "nbformat": 4,
 "nbformat_minor": 5
}
