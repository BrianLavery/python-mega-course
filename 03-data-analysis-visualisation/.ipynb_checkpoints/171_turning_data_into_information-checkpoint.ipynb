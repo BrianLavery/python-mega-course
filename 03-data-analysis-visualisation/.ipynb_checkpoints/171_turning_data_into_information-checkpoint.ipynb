{
 "cells": [
  {
   "cell_type": "markdown",
   "id": "01af7e31",
   "metadata": {},
   "source": [
    "## Overview of the dataframe"
   ]
  },
  {
   "cell_type": "code",
   "execution_count": 2,
   "id": "a5cbccb0",
   "metadata": {},
   "outputs": [],
   "source": [
    "import pandas\n",
    "from datetime import datetime # Need to compare times\n",
    "from pytz import utc # Need to compare times\n",
    "\n",
    "# We use parse dates argument here to get Timestamps as datetime objects not strings\n",
    "data = pandas.read_csv(\"./review_analysis/reviews.csv\", parse_dates = ['Timestamp'])"
   ]
  },
  {
   "cell_type": "markdown",
   "id": "fcb23fe8",
   "metadata": {},
   "source": [
    "## From data to information"
   ]
  },
  {
   "cell_type": "markdown",
   "id": "b1c1353b",
   "metadata": {},
   "source": [
    "### Average rating"
   ]
  },
  {
   "cell_type": "code",
   "execution_count": 3,
   "id": "dd6d9dc9",
   "metadata": {},
   "outputs": [
    {
     "data": {
      "text/plain": [
       "4.442155555555556"
      ]
     },
     "execution_count": 3,
     "metadata": {},
     "output_type": "execute_result"
    }
   ],
   "source": [
    "data['Rating'].mean()"
   ]
  },
  {
   "cell_type": "markdown",
   "id": "d96d4f01",
   "metadata": {},
   "source": [
    "### Average rating for a particular course"
   ]
  },
  {
   "cell_type": "code",
   "execution_count": 5,
   "id": "615b4726",
   "metadata": {},
   "outputs": [
    {
     "data": {
      "text/plain": [
       "4.477270180942244"
      ]
     },
     "execution_count": 5,
     "metadata": {},
     "output_type": "execute_result"
    }
   ],
   "source": [
    "data[(data['Course Name'] == \"The Python Mega Course: Build 10 Real World Applications\")]['Rating'].mean()"
   ]
  },
  {
   "cell_type": "markdown",
   "id": "7f51ef3f",
   "metadata": {},
   "source": [
    "### Average rating for a particular period"
   ]
  },
  {
   "cell_type": "code",
   "execution_count": 9,
   "id": "19f9992e",
   "metadata": {},
   "outputs": [
    {
     "data": {
      "text/plain": [
       "4.476541271662339"
      ]
     },
     "execution_count": 9,
     "metadata": {},
     "output_type": "execute_result"
    }
   ],
   "source": [
    "data[(data['Timestamp'] >= datetime(2020, 1, 1, tzinfo = utc)) & \n",
    "     (data['Timestamp'] <= datetime(2020, 12, 31, tzinfo = utc))]['Rating'].mean()"
   ]
  },
  {
   "cell_type": "markdown",
   "id": "0a23dfbd",
   "metadata": {},
   "source": [
    "### Average rating for a particular period for a particular course"
   ]
  },
  {
   "cell_type": "code",
   "execution_count": null,
   "id": "a9169027",
   "metadata": {},
   "outputs": [],
   "source": [
    "data[(data['Course Name'] == \"The Python Mega Course: Build 10 Real World Applications\" & \n",
    "     (data['Timestamp'] >= datetime(2020, 1, 1, tzinfo = utc)) & \n",
    "     (data['Timestamp'] <= datetime(2020, 12, 31, tzinfo = utc))]['Rating'].mean()"
   ]
  }
 ],
 "metadata": {
  "kernelspec": {
   "display_name": "Python 3 (ipykernel)",
   "language": "python",
   "name": "python3"
  },
  "language_info": {
   "codemirror_mode": {
    "name": "ipython",
    "version": 3
   },
   "file_extension": ".py",
   "mimetype": "text/x-python",
   "name": "python",
   "nbconvert_exporter": "python",
   "pygments_lexer": "ipython3",
   "version": "3.8.10"
  }
 },
 "nbformat": 4,
 "nbformat_minor": 5
}
