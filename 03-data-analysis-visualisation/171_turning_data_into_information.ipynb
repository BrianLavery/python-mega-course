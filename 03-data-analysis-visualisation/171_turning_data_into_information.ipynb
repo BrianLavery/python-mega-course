{
 "cells": [
  {
   "cell_type": "markdown",
   "id": "01af7e31",
   "metadata": {},
   "source": [
    "## Overview of the dataframe"
   ]
  },
  {
   "cell_type": "code",
   "execution_count": 2,
   "id": "a5cbccb0",
   "metadata": {},
   "outputs": [],
   "source": [
    "import pandas\n",
    "from datetime import datetime # Need to compare times\n",
    "from pytz import utc # Need to compare times\n",
    "\n",
    "# We use parse dates argument here to get Timestamps as datetime objects not strings\n",
    "data = pandas.read_csv(\"./review_analysis/reviews.csv\", parse_dates = ['Timestamp'])"
   ]
  },
  {
   "cell_type": "markdown",
   "id": "f4d89abd",
   "metadata": {},
   "source": [
    "## From data to information"
   ]
  },
  {
   "cell_type": "markdown",
   "id": "f81575f2",
   "metadata": {},
   "source": [
    "### Average rating"
   ]
  },
  {
   "cell_type": "code",
   "execution_count": 3,
   "id": "0dc0e2f8",
   "metadata": {},
   "outputs": [
    {
     "data": {
      "text/plain": [
       "4.442155555555556"
      ]
     },
     "execution_count": 3,
     "metadata": {},
     "output_type": "execute_result"
    }
   ],
   "source": [
    "data['Rating'].mean()"
   ]
  },
  {
   "cell_type": "markdown",
   "id": "89baa41c",
   "metadata": {},
   "source": [
    "### Average rating for a particular course"
   ]
  },
  {
   "cell_type": "code",
   "execution_count": 12,
   "id": "7c8defe1",
   "metadata": {},
   "outputs": [
    {
     "data": {
      "text/plain": [
       "4.477270180942244"
      ]
     },
     "execution_count": 12,
     "metadata": {},
     "output_type": "execute_result"
    }
   ],
   "source": [
    "data[data['Course Name'] == \"The Python Mega Course: Build 10 Real World Applications\"]['Rating'].mean()"
   ]
  },
  {
   "cell_type": "markdown",
   "id": "307e58b9",
   "metadata": {},
   "source": [
    "### Average rating for a particular period"
   ]
  },
  {
   "cell_type": "code",
   "execution_count": 9,
   "id": "a27f5b0a",
   "metadata": {},
   "outputs": [
    {
     "data": {
      "text/plain": [
       "4.476541271662339"
      ]
     },
     "execution_count": 9,
     "metadata": {},
     "output_type": "execute_result"
    }
   ],
   "source": [
    "data[(data['Timestamp'] >= datetime(2020, 1, 1, tzinfo = utc)) & \n",
    "     (data['Timestamp'] <= datetime(2020, 12, 31, tzinfo = utc))]['Rating'].mean()"
   ]
  },
  {
   "cell_type": "markdown",
   "id": "946434c8",
   "metadata": {},
   "source": [
    "### Average rating for a particular period for a particular course"
   ]
  },
  {
   "cell_type": "code",
   "execution_count": 11,
   "id": "e6755a25",
   "metadata": {},
   "outputs": [
    {
     "data": {
      "text/plain": [
       "4.506076089208037"
      ]
     },
     "execution_count": 11,
     "metadata": {},
     "output_type": "execute_result"
    }
   ],
   "source": [
    "data[(data['Course Name'] == \"The Python Mega Course: Build 10 Real World Applications\") & \n",
    "     (data['Timestamp'] >= datetime(2020, 1, 1, tzinfo = utc)) & \n",
    "     (data['Timestamp'] <= datetime(2020, 12, 31, tzinfo = utc))]['Rating'].mean()"
   ]
  },
  {
   "cell_type": "markdown",
   "id": "f14d13cc",
   "metadata": {},
   "source": [
    "### Average of uncommented ratings"
   ]
  },
  {
   "cell_type": "code",
   "execution_count": 22,
   "id": "dac6bef8",
   "metadata": {},
   "outputs": [
    {
     "data": {
      "text/plain": [
       "4.433679746603492"
      ]
     },
     "execution_count": 22,
     "metadata": {},
     "output_type": "execute_result"
    }
   ],
   "source": [
    "data[data['Comment'].isnull()]['Rating'].mean()"
   ]
  },
  {
   "cell_type": "code",
   "execution_count": 19,
   "id": "434f9c95",
   "metadata": {},
   "outputs": [
    {
     "data": {
      "text/html": [
       "<div>\n",
       "<style scoped>\n",
       "    .dataframe tbody tr th:only-of-type {\n",
       "        vertical-align: middle;\n",
       "    }\n",
       "\n",
       "    .dataframe tbody tr th {\n",
       "        vertical-align: top;\n",
       "    }\n",
       "\n",
       "    .dataframe thead th {\n",
       "        text-align: right;\n",
       "    }\n",
       "</style>\n",
       "<table border=\"1\" class=\"dataframe\">\n",
       "  <thead>\n",
       "    <tr style=\"text-align: right;\">\n",
       "      <th></th>\n",
       "      <th>Course Name</th>\n",
       "      <th>Timestamp</th>\n",
       "      <th>Rating</th>\n",
       "      <th>Comment</th>\n",
       "    </tr>\n",
       "  </thead>\n",
       "  <tbody>\n",
       "    <tr>\n",
       "      <th>57</th>\n",
       "      <td>The Python Mega Course: Build 10 Real World Ap...</td>\n",
       "      <td>2021-03-31 08:41:48+00:00</td>\n",
       "      <td>2.0</td>\n",
       "      <td>Coding is awful confusing. Loads of weird stuf...</td>\n",
       "    </tr>\n",
       "    <tr>\n",
       "      <th>1025</th>\n",
       "      <td>The Python Mega Course: Build 10 Real World Ap...</td>\n",
       "      <td>2021-02-25 14:47:30+00:00</td>\n",
       "      <td>2.0</td>\n",
       "      <td>click sound :(</td>\n",
       "    </tr>\n",
       "    <tr>\n",
       "      <th>1309</th>\n",
       "      <td>The Python Mega Course: Build 10 Real World Ap...</td>\n",
       "      <td>2021-02-17 18:20:38+00:00</td>\n",
       "      <td>1.0</td>\n",
       "      <td>i found python not found issue even after install</td>\n",
       "    </tr>\n",
       "    <tr>\n",
       "      <th>1332</th>\n",
       "      <td>The Python Mega Course: Build 10 Real World Ap...</td>\n",
       "      <td>2021-02-17 05:18:15+00:00</td>\n",
       "      <td>2.5</td>\n",
       "      <td>You should clarify in windows that the folder ...</td>\n",
       "    </tr>\n",
       "    <tr>\n",
       "      <th>1550</th>\n",
       "      <td>The Python Mega Course: Build 10 Real World Ap...</td>\n",
       "      <td>2021-02-09 14:58:02+00:00</td>\n",
       "      <td>2.0</td>\n",
       "      <td>I am finding concept delivery as fractal, piec...</td>\n",
       "    </tr>\n",
       "    <tr>\n",
       "      <th>...</th>\n",
       "      <td>...</td>\n",
       "      <td>...</td>\n",
       "      <td>...</td>\n",
       "      <td>...</td>\n",
       "    </tr>\n",
       "    <tr>\n",
       "      <th>44644</th>\n",
       "      <td>The Python Mega Course: Build 10 Real World Ap...</td>\n",
       "      <td>2018-01-08 06:49:44+00:00</td>\n",
       "      <td>0.5</td>\n",
       "      <td>Very lethargic voice over.  The content flow i...</td>\n",
       "    </tr>\n",
       "    <tr>\n",
       "      <th>44751</th>\n",
       "      <td>Python for Beginners with Examples</td>\n",
       "      <td>2018-01-06 01:51:28+00:00</td>\n",
       "      <td>2.5</td>\n",
       "      <td>Not very clear instructions. Too confusing at ...</td>\n",
       "    </tr>\n",
       "    <tr>\n",
       "      <th>44881</th>\n",
       "      <td>Python for Beginners with Examples</td>\n",
       "      <td>2018-01-03 10:20:07+00:00</td>\n",
       "      <td>2.5</td>\n",
       "      <td>i want to know how to download python from pyt...</td>\n",
       "    </tr>\n",
       "    <tr>\n",
       "      <th>44919</th>\n",
       "      <td>The Python Mega Course: Build 10 Real World Ap...</td>\n",
       "      <td>2018-01-02 16:19:15+00:00</td>\n",
       "      <td>0.5</td>\n",
       "      <td>He doesn't teach anything you just save the me...</td>\n",
       "    </tr>\n",
       "    <tr>\n",
       "      <th>44940</th>\n",
       "      <td>Interactive Data Visualization with Python and...</td>\n",
       "      <td>2018-01-02 07:41:16+00:00</td>\n",
       "      <td>1.5</td>\n",
       "      <td>too slow. repetitive information</td>\n",
       "    </tr>\n",
       "  </tbody>\n",
       "</table>\n",
       "<p>291 rows × 4 columns</p>\n",
       "</div>"
      ],
      "text/plain": [
       "                                             Course Name  \\\n",
       "57     The Python Mega Course: Build 10 Real World Ap...   \n",
       "1025   The Python Mega Course: Build 10 Real World Ap...   \n",
       "1309   The Python Mega Course: Build 10 Real World Ap...   \n",
       "1332   The Python Mega Course: Build 10 Real World Ap...   \n",
       "1550   The Python Mega Course: Build 10 Real World Ap...   \n",
       "...                                                  ...   \n",
       "44644  The Python Mega Course: Build 10 Real World Ap...   \n",
       "44751                 Python for Beginners with Examples   \n",
       "44881                 Python for Beginners with Examples   \n",
       "44919  The Python Mega Course: Build 10 Real World Ap...   \n",
       "44940  Interactive Data Visualization with Python and...   \n",
       "\n",
       "                      Timestamp  Rating  \\\n",
       "57    2021-03-31 08:41:48+00:00     2.0   \n",
       "1025  2021-02-25 14:47:30+00:00     2.0   \n",
       "1309  2021-02-17 18:20:38+00:00     1.0   \n",
       "1332  2021-02-17 05:18:15+00:00     2.5   \n",
       "1550  2021-02-09 14:58:02+00:00     2.0   \n",
       "...                         ...     ...   \n",
       "44644 2018-01-08 06:49:44+00:00     0.5   \n",
       "44751 2018-01-06 01:51:28+00:00     2.5   \n",
       "44881 2018-01-03 10:20:07+00:00     2.5   \n",
       "44919 2018-01-02 16:19:15+00:00     0.5   \n",
       "44940 2018-01-02 07:41:16+00:00     1.5   \n",
       "\n",
       "                                                 Comment  \n",
       "57     Coding is awful confusing. Loads of weird stuf...  \n",
       "1025                                      click sound :(  \n",
       "1309   i found python not found issue even after install  \n",
       "1332   You should clarify in windows that the folder ...  \n",
       "1550   I am finding concept delivery as fractal, piec...  \n",
       "...                                                  ...  \n",
       "44644  Very lethargic voice over.  The content flow i...  \n",
       "44751  Not very clear instructions. Too confusing at ...  \n",
       "44881  i want to know how to download python from pyt...  \n",
       "44919  He doesn't teach anything you just save the me...  \n",
       "44940                   too slow. repetitive information  \n",
       "\n",
       "[291 rows x 4 columns]"
      ]
     },
     "execution_count": 19,
     "metadata": {},
     "output_type": "execute_result"
    }
   ],
   "source": [
    "data[(data['Comment'].notnull()) &\n",
    "    (data['Rating'] < 3)]"
   ]
  },
  {
   "cell_type": "markdown",
   "id": "296d8384",
   "metadata": {},
   "source": [
    "### Average of commented ratings"
   ]
  },
  {
   "cell_type": "code",
   "execution_count": 23,
   "id": "da3d563b",
   "metadata": {},
   "outputs": [
    {
     "data": {
      "text/plain": [
       "4.489777908515959"
      ]
     },
     "execution_count": 23,
     "metadata": {},
     "output_type": "execute_result"
    }
   ],
   "source": [
    "data[data['Comment'].notnull()]['Rating'].mean()"
   ]
  },
  {
   "cell_type": "markdown",
   "id": "30dd2694",
   "metadata": {},
   "source": [
    "### Number of uncommented ratings"
   ]
  },
  {
   "cell_type": "code",
   "execution_count": 25,
   "id": "d60873ff",
   "metadata": {},
   "outputs": [
    {
     "data": {
      "text/plain": [
       "38201"
      ]
     },
     "execution_count": 25,
     "metadata": {},
     "output_type": "execute_result"
    }
   ],
   "source": [
    "data[data['Comment'].isnull()]['Rating'].count()"
   ]
  },
  {
   "cell_type": "markdown",
   "id": "97974bef",
   "metadata": {},
   "source": [
    "### Number of commented ratings"
   ]
  },
  {
   "cell_type": "code",
   "execution_count": 26,
   "id": "2df084f3",
   "metadata": {},
   "outputs": [
    {
     "data": {
      "text/plain": [
       "6799"
      ]
     },
     "execution_count": 26,
     "metadata": {},
     "output_type": "execute_result"
    }
   ],
   "source": [
    "data[data['Comment'].notnull()]['Rating'].count()"
   ]
  },
  {
   "cell_type": "markdown",
   "id": "f52b1747",
   "metadata": {},
   "source": [
    "### Number of comments containing a certain word"
   ]
  },
  {
   "cell_type": "markdown",
   "id": "b4315a50",
   "metadata": {},
   "source": [
    "#### My approach using what we learned up until now"
   ]
  },
  {
   "cell_type": "code",
   "execution_count": 29,
   "id": "1f8faa63",
   "metadata": {},
   "outputs": [
    {
     "data": {
      "text/html": [
       "<div>\n",
       "<style scoped>\n",
       "    .dataframe tbody tr th:only-of-type {\n",
       "        vertical-align: middle;\n",
       "    }\n",
       "\n",
       "    .dataframe tbody tr th {\n",
       "        vertical-align: top;\n",
       "    }\n",
       "\n",
       "    .dataframe thead th {\n",
       "        text-align: right;\n",
       "    }\n",
       "</style>\n",
       "<table border=\"1\" class=\"dataframe\">\n",
       "  <thead>\n",
       "    <tr style=\"text-align: right;\">\n",
       "      <th></th>\n",
       "      <th>Course Name</th>\n",
       "      <th>Timestamp</th>\n",
       "      <th>Rating</th>\n",
       "      <th>Comment</th>\n",
       "    </tr>\n",
       "  </thead>\n",
       "  <tbody>\n",
       "    <tr>\n",
       "      <th>2099</th>\n",
       "      <td>The Complete Python Course: Build 10 Professio...</td>\n",
       "      <td>2021-01-24 19:02:55+00:00</td>\n",
       "      <td>4.5</td>\n",
       "      <td>The course is great but because of the instruc...</td>\n",
       "    </tr>\n",
       "    <tr>\n",
       "      <th>3025</th>\n",
       "      <td>The Python Mega Course: Build 10 Real World Ap...</td>\n",
       "      <td>2021-01-01 14:46:21+00:00</td>\n",
       "      <td>2.5</td>\n",
       "      <td>Sometimes it is difficult to understand the in...</td>\n",
       "    </tr>\n",
       "    <tr>\n",
       "      <th>3477</th>\n",
       "      <td>The Python Mega Course: Build 10 Real World Ap...</td>\n",
       "      <td>2020-12-18 06:00:42+00:00</td>\n",
       "      <td>4.5</td>\n",
       "      <td>A little trouble at first with the accent, but...</td>\n",
       "    </tr>\n",
       "    <tr>\n",
       "      <th>3754</th>\n",
       "      <td>The Python Mega Course: Build 10 Real World Ap...</td>\n",
       "      <td>2020-12-08 13:42:00+00:00</td>\n",
       "      <td>5.0</td>\n",
       "      <td>I was looking for some time for the good Pytho...</td>\n",
       "    </tr>\n",
       "    <tr>\n",
       "      <th>4690</th>\n",
       "      <td>Learn GIS in One Hour</td>\n",
       "      <td>2020-11-11 17:23:12+00:00</td>\n",
       "      <td>5.0</td>\n",
       "      <td>I am having trouble seeing the video and he is...</td>\n",
       "    </tr>\n",
       "    <tr>\n",
       "      <th>...</th>\n",
       "      <td>...</td>\n",
       "      <td>...</td>\n",
       "      <td>...</td>\n",
       "      <td>...</td>\n",
       "    </tr>\n",
       "    <tr>\n",
       "      <th>43785</th>\n",
       "      <td>Python for Beginners with Examples</td>\n",
       "      <td>2018-01-26 09:19:40+00:00</td>\n",
       "      <td>4.0</td>\n",
       "      <td>Please find the English review below!\\n\\nDiese...</td>\n",
       "    </tr>\n",
       "    <tr>\n",
       "      <th>44040</th>\n",
       "      <td>The Python Mega Course: Build 10 Real World Ap...</td>\n",
       "      <td>2018-01-20 01:06:54+00:00</td>\n",
       "      <td>5.0</td>\n",
       "      <td>HIGHLY RECOMMEND THIS COURSE! BUT PLEASE READ ...</td>\n",
       "    </tr>\n",
       "    <tr>\n",
       "      <th>44471</th>\n",
       "      <td>Learn GIS in One Hour</td>\n",
       "      <td>2018-01-11 11:11:12+00:00</td>\n",
       "      <td>4.5</td>\n",
       "      <td>This is a really nice course for beginners who...</td>\n",
       "    </tr>\n",
       "    <tr>\n",
       "      <th>44483</th>\n",
       "      <td>The Python Mega Course: Build 10 Real World Ap...</td>\n",
       "      <td>2018-01-11 05:06:48+00:00</td>\n",
       "      <td>3.0</td>\n",
       "      <td>Speakers accent was a bit difficult for me to ...</td>\n",
       "    </tr>\n",
       "    <tr>\n",
       "      <th>44617</th>\n",
       "      <td>The Python Mega Course: Build 10 Real World Ap...</td>\n",
       "      <td>2018-01-08 18:39:34+00:00</td>\n",
       "      <td>5.0</td>\n",
       "      <td>First course that actually covers everything y...</td>\n",
       "    </tr>\n",
       "  </tbody>\n",
       "</table>\n",
       "<p>77 rows × 4 columns</p>\n",
       "</div>"
      ],
      "text/plain": [
       "                                             Course Name  \\\n",
       "2099   The Complete Python Course: Build 10 Professio...   \n",
       "3025   The Python Mega Course: Build 10 Real World Ap...   \n",
       "3477   The Python Mega Course: Build 10 Real World Ap...   \n",
       "3754   The Python Mega Course: Build 10 Real World Ap...   \n",
       "4690                               Learn GIS in One Hour   \n",
       "...                                                  ...   \n",
       "43785                 Python for Beginners with Examples   \n",
       "44040  The Python Mega Course: Build 10 Real World Ap...   \n",
       "44471                              Learn GIS in One Hour   \n",
       "44483  The Python Mega Course: Build 10 Real World Ap...   \n",
       "44617  The Python Mega Course: Build 10 Real World Ap...   \n",
       "\n",
       "                      Timestamp  Rating  \\\n",
       "2099  2021-01-24 19:02:55+00:00     4.5   \n",
       "3025  2021-01-01 14:46:21+00:00     2.5   \n",
       "3477  2020-12-18 06:00:42+00:00     4.5   \n",
       "3754  2020-12-08 13:42:00+00:00     5.0   \n",
       "4690  2020-11-11 17:23:12+00:00     5.0   \n",
       "...                         ...     ...   \n",
       "43785 2018-01-26 09:19:40+00:00     4.0   \n",
       "44040 2018-01-20 01:06:54+00:00     5.0   \n",
       "44471 2018-01-11 11:11:12+00:00     4.5   \n",
       "44483 2018-01-11 05:06:48+00:00     3.0   \n",
       "44617 2018-01-08 18:39:34+00:00     5.0   \n",
       "\n",
       "                                                 Comment  \n",
       "2099   The course is great but because of the instruc...  \n",
       "3025   Sometimes it is difficult to understand the in...  \n",
       "3477   A little trouble at first with the accent, but...  \n",
       "3754   I was looking for some time for the good Pytho...  \n",
       "4690   I am having trouble seeing the video and he is...  \n",
       "...                                                  ...  \n",
       "43785  Please find the English review below!\\n\\nDiese...  \n",
       "44040  HIGHLY RECOMMEND THIS COURSE! BUT PLEASE READ ...  \n",
       "44471  This is a really nice course for beginners who...  \n",
       "44483  Speakers accent was a bit difficult for me to ...  \n",
       "44617  First course that actually covers everything y...  \n",
       "\n",
       "[77 rows x 4 columns]"
      ]
     },
     "execution_count": 29,
     "metadata": {},
     "output_type": "execute_result"
    }
   ],
   "source": [
    "data[(data['Comment'].notnull()) &\n",
    "    (data['Comment'].str.contains('accent'))]"
   ]
  },
  {
   "cell_type": "markdown",
   "id": "58fdfcb9",
   "metadata": {},
   "source": [
    "#### His answer with new info"
   ]
  },
  {
   "cell_type": "code",
   "execution_count": 31,
   "id": "c4b06bbb",
   "metadata": {},
   "outputs": [
    {
     "data": {
      "text/html": [
       "<div>\n",
       "<style scoped>\n",
       "    .dataframe tbody tr th:only-of-type {\n",
       "        vertical-align: middle;\n",
       "    }\n",
       "\n",
       "    .dataframe tbody tr th {\n",
       "        vertical-align: top;\n",
       "    }\n",
       "\n",
       "    .dataframe thead th {\n",
       "        text-align: right;\n",
       "    }\n",
       "</style>\n",
       "<table border=\"1\" class=\"dataframe\">\n",
       "  <thead>\n",
       "    <tr style=\"text-align: right;\">\n",
       "      <th></th>\n",
       "      <th>Course Name</th>\n",
       "      <th>Timestamp</th>\n",
       "      <th>Rating</th>\n",
       "      <th>Comment</th>\n",
       "    </tr>\n",
       "  </thead>\n",
       "  <tbody>\n",
       "    <tr>\n",
       "      <th>2099</th>\n",
       "      <td>The Complete Python Course: Build 10 Professio...</td>\n",
       "      <td>2021-01-24 19:02:55+00:00</td>\n",
       "      <td>4.5</td>\n",
       "      <td>The course is great but because of the instruc...</td>\n",
       "    </tr>\n",
       "    <tr>\n",
       "      <th>3025</th>\n",
       "      <td>The Python Mega Course: Build 10 Real World Ap...</td>\n",
       "      <td>2021-01-01 14:46:21+00:00</td>\n",
       "      <td>2.5</td>\n",
       "      <td>Sometimes it is difficult to understand the in...</td>\n",
       "    </tr>\n",
       "    <tr>\n",
       "      <th>3477</th>\n",
       "      <td>The Python Mega Course: Build 10 Real World Ap...</td>\n",
       "      <td>2020-12-18 06:00:42+00:00</td>\n",
       "      <td>4.5</td>\n",
       "      <td>A little trouble at first with the accent, but...</td>\n",
       "    </tr>\n",
       "    <tr>\n",
       "      <th>3754</th>\n",
       "      <td>The Python Mega Course: Build 10 Real World Ap...</td>\n",
       "      <td>2020-12-08 13:42:00+00:00</td>\n",
       "      <td>5.0</td>\n",
       "      <td>I was looking for some time for the good Pytho...</td>\n",
       "    </tr>\n",
       "    <tr>\n",
       "      <th>4690</th>\n",
       "      <td>Learn GIS in One Hour</td>\n",
       "      <td>2020-11-11 17:23:12+00:00</td>\n",
       "      <td>5.0</td>\n",
       "      <td>I am having trouble seeing the video and he is...</td>\n",
       "    </tr>\n",
       "    <tr>\n",
       "      <th>...</th>\n",
       "      <td>...</td>\n",
       "      <td>...</td>\n",
       "      <td>...</td>\n",
       "      <td>...</td>\n",
       "    </tr>\n",
       "    <tr>\n",
       "      <th>43785</th>\n",
       "      <td>Python for Beginners with Examples</td>\n",
       "      <td>2018-01-26 09:19:40+00:00</td>\n",
       "      <td>4.0</td>\n",
       "      <td>Please find the English review below!\\n\\nDiese...</td>\n",
       "    </tr>\n",
       "    <tr>\n",
       "      <th>44040</th>\n",
       "      <td>The Python Mega Course: Build 10 Real World Ap...</td>\n",
       "      <td>2018-01-20 01:06:54+00:00</td>\n",
       "      <td>5.0</td>\n",
       "      <td>HIGHLY RECOMMEND THIS COURSE! BUT PLEASE READ ...</td>\n",
       "    </tr>\n",
       "    <tr>\n",
       "      <th>44471</th>\n",
       "      <td>Learn GIS in One Hour</td>\n",
       "      <td>2018-01-11 11:11:12+00:00</td>\n",
       "      <td>4.5</td>\n",
       "      <td>This is a really nice course for beginners who...</td>\n",
       "    </tr>\n",
       "    <tr>\n",
       "      <th>44483</th>\n",
       "      <td>The Python Mega Course: Build 10 Real World Ap...</td>\n",
       "      <td>2018-01-11 05:06:48+00:00</td>\n",
       "      <td>3.0</td>\n",
       "      <td>Speakers accent was a bit difficult for me to ...</td>\n",
       "    </tr>\n",
       "    <tr>\n",
       "      <th>44617</th>\n",
       "      <td>The Python Mega Course: Build 10 Real World Ap...</td>\n",
       "      <td>2018-01-08 18:39:34+00:00</td>\n",
       "      <td>5.0</td>\n",
       "      <td>First course that actually covers everything y...</td>\n",
       "    </tr>\n",
       "  </tbody>\n",
       "</table>\n",
       "<p>77 rows × 4 columns</p>\n",
       "</div>"
      ],
      "text/plain": [
       "                                             Course Name  \\\n",
       "2099   The Complete Python Course: Build 10 Professio...   \n",
       "3025   The Python Mega Course: Build 10 Real World Ap...   \n",
       "3477   The Python Mega Course: Build 10 Real World Ap...   \n",
       "3754   The Python Mega Course: Build 10 Real World Ap...   \n",
       "4690                               Learn GIS in One Hour   \n",
       "...                                                  ...   \n",
       "43785                 Python for Beginners with Examples   \n",
       "44040  The Python Mega Course: Build 10 Real World Ap...   \n",
       "44471                              Learn GIS in One Hour   \n",
       "44483  The Python Mega Course: Build 10 Real World Ap...   \n",
       "44617  The Python Mega Course: Build 10 Real World Ap...   \n",
       "\n",
       "                      Timestamp  Rating  \\\n",
       "2099  2021-01-24 19:02:55+00:00     4.5   \n",
       "3025  2021-01-01 14:46:21+00:00     2.5   \n",
       "3477  2020-12-18 06:00:42+00:00     4.5   \n",
       "3754  2020-12-08 13:42:00+00:00     5.0   \n",
       "4690  2020-11-11 17:23:12+00:00     5.0   \n",
       "...                         ...     ...   \n",
       "43785 2018-01-26 09:19:40+00:00     4.0   \n",
       "44040 2018-01-20 01:06:54+00:00     5.0   \n",
       "44471 2018-01-11 11:11:12+00:00     4.5   \n",
       "44483 2018-01-11 05:06:48+00:00     3.0   \n",
       "44617 2018-01-08 18:39:34+00:00     5.0   \n",
       "\n",
       "                                                 Comment  \n",
       "2099   The course is great but because of the instruc...  \n",
       "3025   Sometimes it is difficult to understand the in...  \n",
       "3477   A little trouble at first with the accent, but...  \n",
       "3754   I was looking for some time for the good Pytho...  \n",
       "4690   I am having trouble seeing the video and he is...  \n",
       "...                                                  ...  \n",
       "43785  Please find the English review below!\\n\\nDiese...  \n",
       "44040  HIGHLY RECOMMEND THIS COURSE! BUT PLEASE READ ...  \n",
       "44471  This is a really nice course for beginners who...  \n",
       "44483  Speakers accent was a bit difficult for me to ...  \n",
       "44617  First course that actually covers everything y...  \n",
       "\n",
       "[77 rows x 4 columns]"
      ]
     },
     "execution_count": 31,
     "metadata": {},
     "output_type": "execute_result"
    }
   ],
   "source": [
    "# Ignores null values\n",
    "data[data['Comment'].str.contains('accent', na = False)]"
   ]
  },
  {
   "cell_type": "code",
   "execution_count": 32,
   "id": "30db647c",
   "metadata": {},
   "outputs": [
    {
     "data": {
      "text/plain": [
       "77"
      ]
     },
     "execution_count": 32,
     "metadata": {},
     "output_type": "execute_result"
    }
   ],
   "source": [
    "data[data['Comment'].str.contains('accent', na = False)]['Rating'].count()"
   ]
  },
  {
   "cell_type": "code",
   "execution_count": 33,
   "id": "ff7172f5",
   "metadata": {},
   "outputs": [
    {
     "data": {
      "text/plain": [
       "3.8636363636363638"
      ]
     },
     "execution_count": 33,
     "metadata": {},
     "output_type": "execute_result"
    }
   ],
   "source": [
    "data[data['Comment'].str.contains('accent', na = False)]['Rating'].mean()"
   ]
  }
 ],
 "metadata": {
  "kernelspec": {
   "display_name": "Python 3 (ipykernel)",
   "language": "python",
   "name": "python3"
  },
  "language_info": {
   "codemirror_mode": {
    "name": "ipython",
    "version": 3
   },
   "file_extension": ".py",
   "mimetype": "text/x-python",
   "name": "python",
   "nbconvert_exporter": "python",
   "pygments_lexer": "ipython3",
   "version": "3.8.10"
  }
 },
 "nbformat": 4,
 "nbformat_minor": 5
}
