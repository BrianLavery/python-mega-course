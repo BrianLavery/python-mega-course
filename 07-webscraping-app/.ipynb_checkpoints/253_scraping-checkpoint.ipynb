{
 "cells": [
  {
   "cell_type": "markdown",
   "id": "ea7a1652",
   "metadata": {},
   "source": [
    "## Setup"
   ]
  },
  {
   "cell_type": "code",
   "execution_count": 2,
   "id": "836cfe85",
   "metadata": {},
   "outputs": [
    {
     "data": {
      "text/plain": [
       "10"
      ]
     },
     "execution_count": 2,
     "metadata": {},
     "output_type": "execute_result"
    }
   ],
   "source": [
    "import requests\n",
    "from bs4 import BeautifulSoup\n",
    "\n",
    "r = requests.get(\"https://pythonizing.github.io/data/real-estate/rock-springs-wy/LCWYROCKSPRINGS/\")\n",
    "c = r.content\n",
    "soup = BeautifulSoup(c, \"html.parser\")\n",
    "\n",
    "\n",
    "rows = soup.find_all(\"div\", {\"class\":\"propertyRow\"})\n",
    "len(rows)"
   ]
  },
  {
   "cell_type": "markdown",
   "id": "8b917cb5",
   "metadata": {},
   "source": [
    "## Price (single)"
   ]
  },
  {
   "cell_type": "code",
   "execution_count": 8,
   "id": "320b32b2",
   "metadata": {},
   "outputs": [
    {
     "data": {
      "text/plain": [
       "'$725,000'"
      ]
     },
     "execution_count": 8,
     "metadata": {},
     "output_type": "execute_result"
    }
   ],
   "source": [
    "# Use this to extract the price\n",
    "rows[0].find(\"h4\", {\"class\":\"propPrice\"}).text.replace(\"\\n\",\"\").replace(\" \", \"\")"
   ]
  },
  {
   "cell_type": "markdown",
   "id": "40fbcf32",
   "metadata": {},
   "source": [
    "## Price (list)"
   ]
  },
  {
   "cell_type": "code",
   "execution_count": 11,
   "id": "f14cd30d",
   "metadata": {},
   "outputs": [
    {
     "name": "stdout",
     "output_type": "stream",
     "text": [
      "$725,000\n",
      "0 Gateway\n",
      "Rock Springs, WY 82901\n",
      "None\n",
      "None\n",
      "None\n",
      "None\n",
      "\n",
      "$452,900\n",
      "1003 Winchester Blvd.\n",
      "Rock Springs, WY 82901\n",
      "4\n",
      "None\n",
      "4\n",
      "None\n",
      "0.21 Acres\n",
      "\n",
      "$396,900\n",
      "600 Talladega\n",
      "Rock Springs, WY 82901\n",
      "5\n",
      "3,154\n",
      "3\n",
      "None\n",
      "\n",
      "$389,900\n",
      "3239 Spearhead Way\n",
      "Rock Springs, WY 82901\n",
      "4\n",
      "3,076\n",
      "3\n",
      "1\n",
      "Under 1/2 Acre, \n",
      "\n",
      "$254,000\n",
      "522 Emerald Street\n",
      "Rock Springs, WY 82901\n",
      "3\n",
      "1,172\n",
      "3\n",
      "None\n",
      "Under 1/2 Acre, \n",
      "\n",
      "$252,900\n",
      "1302 Veteran's Drive\n",
      "Rock Springs, WY 82901\n",
      "4\n",
      "1,932\n",
      "2\n",
      "None\n",
      "0.27 Acres\n",
      "\n",
      "$210,000\n",
      "1021 Cypress Cir\n",
      "Rock Springs, WY 82901\n",
      "4\n",
      "1,676\n",
      "3\n",
      "None\n",
      "Under 1/2 Acre, \n",
      "\n",
      "$209,000\n",
      "913 Madison Dr\n",
      "Rock Springs, WY 82901\n",
      "3\n",
      "1,344\n",
      "2\n",
      "None\n",
      "Under 1/2 Acre, \n",
      "\n",
      "$199,900\n",
      "1344 Teton Street\n",
      "Rock Springs, WY 82901\n",
      "3\n",
      "1,920\n",
      "2\n",
      "None\n",
      "Under 1/2 Acre, \n",
      "\n",
      "$196,900\n",
      "4 Minnies Lane\n",
      "Rock Springs, WY 82901\n",
      "3\n",
      "1,664\n",
      "2\n",
      "None\n",
      "2.02 Acres\n",
      "\n"
     ]
    }
   ],
   "source": [
    "for item in rows:\n",
    "    print(item.find(\"h4\", {\"class\", \"propPrice\"}).text.replace(\"\\n\",\"\").replace(\" \", \"\"))\n",
    "    print(item.find_all(\"span\", {\"class\",\"propAddressCollapse\"})[0].text)\n",
    "    print(item.find_all(\"span\", {\"class\",\"propAddressCollapse\"})[1].text)\n",
    "    try:\n",
    "        print(item.find(\"span\", {\"class\":\"infoBed\"}).find(\"b\").text)\n",
    "    except:\n",
    "        print(None)\n",
    "    try:\n",
    "        print(item.find(\"span\", {\"class\":\"infoSqFt\"}).find(\"b\").text)\n",
    "    except:\n",
    "        print(None)\n",
    "    try:\n",
    "        print(item.find(\"span\", {\"class\":\"infoValueFullBath\"}).find(\"b\").text)\n",
    "    except:\n",
    "        print(None)\n",
    "    try:\n",
    "        print(item.find(\"span\", {\"class\":\"infoValueHalfBath\"}).find(\"b\").text)\n",
    "    except:\n",
    "        print(None)\n",
    "    for column_group in item.find_all(\"div\", {\"class\":\"columnGroup\"}):\n",
    "        # Use zip function to iterate through 2 lists at same time\n",
    "        for feature_group, feature_name in zip(column_group.find_all(\"span\",{\"class\":\"featureGroup\"}), column_group.find_all(\"span\",{\"class\":\"featureName\"})):\n",
    "            if \"Lot Size\" in feature_group.text:\n",
    "                print(feature_name.text)\n",
    "    print(\"\")"
   ]
  },
  {
   "cell_type": "markdown",
   "id": "99269410",
   "metadata": {},
   "source": [
    "## Address"
   ]
  },
  {
   "cell_type": "code",
   "execution_count": null,
   "id": "8bb6341a",
   "metadata": {},
   "outputs": [],
   "source": []
  }
 ],
 "metadata": {
  "kernelspec": {
   "display_name": "Python 3 (ipykernel)",
   "language": "python",
   "name": "python3"
  },
  "language_info": {
   "codemirror_mode": {
    "name": "ipython",
    "version": 3
   },
   "file_extension": ".py",
   "mimetype": "text/x-python",
   "name": "python",
   "nbconvert_exporter": "python",
   "pygments_lexer": "ipython3",
   "version": "3.8.10"
  }
 },
 "nbformat": 4,
 "nbformat_minor": 5
}
